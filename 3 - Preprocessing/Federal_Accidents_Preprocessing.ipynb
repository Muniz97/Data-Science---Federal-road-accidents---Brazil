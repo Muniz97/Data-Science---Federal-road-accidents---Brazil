{
  "nbformat": 4,
  "nbformat_minor": 0,
  "metadata": {
    "colab": {
      "provenance": [],
      "toc_visible": true,
      "authorship_tag": "ABX9TyPTAXxy+b18ZtIHecpM5jyw"
    },
    "kernelspec": {
      "name": "python3",
      "display_name": "Python 3"
    },
    "language_info": {
      "name": "python"
    }
  },
  "cells": [
    {
      "cell_type": "markdown",
      "source": [
        "# Coleta de base"
      ],
      "metadata": {
        "id": "KrMAOHbm4pC6"
      }
    },
    {
      "cell_type": "code",
      "source": [
        "!pip install category_encoders"
      ],
      "metadata": {
        "colab": {
          "base_uri": "https://localhost:8080/"
        },
        "id": "SD9OxI8eB7oH",
        "outputId": "bbbd01d9-11dc-4aa0-874c-0d2d8c102844"
      },
      "execution_count": 1,
      "outputs": [
        {
          "output_type": "stream",
          "name": "stdout",
          "text": [
            "Requirement already satisfied: category_encoders in /usr/local/lib/python3.10/dist-packages (2.6.3)\n",
            "Requirement already satisfied: numpy>=1.14.0 in /usr/local/lib/python3.10/dist-packages (from category_encoders) (1.23.5)\n",
            "Requirement already satisfied: scikit-learn>=0.20.0 in /usr/local/lib/python3.10/dist-packages (from category_encoders) (1.2.2)\n",
            "Requirement already satisfied: scipy>=1.0.0 in /usr/local/lib/python3.10/dist-packages (from category_encoders) (1.11.4)\n",
            "Requirement already satisfied: statsmodels>=0.9.0 in /usr/local/lib/python3.10/dist-packages (from category_encoders) (0.14.1)\n",
            "Requirement already satisfied: pandas>=1.0.5 in /usr/local/lib/python3.10/dist-packages (from category_encoders) (1.5.3)\n",
            "Requirement already satisfied: patsy>=0.5.1 in /usr/local/lib/python3.10/dist-packages (from category_encoders) (0.5.6)\n",
            "Requirement already satisfied: python-dateutil>=2.8.1 in /usr/local/lib/python3.10/dist-packages (from pandas>=1.0.5->category_encoders) (2.8.2)\n",
            "Requirement already satisfied: pytz>=2020.1 in /usr/local/lib/python3.10/dist-packages (from pandas>=1.0.5->category_encoders) (2023.3.post1)\n",
            "Requirement already satisfied: six in /usr/local/lib/python3.10/dist-packages (from patsy>=0.5.1->category_encoders) (1.16.0)\n",
            "Requirement already satisfied: joblib>=1.1.1 in /usr/local/lib/python3.10/dist-packages (from scikit-learn>=0.20.0->category_encoders) (1.3.2)\n",
            "Requirement already satisfied: threadpoolctl>=2.0.0 in /usr/local/lib/python3.10/dist-packages (from scikit-learn>=0.20.0->category_encoders) (3.2.0)\n",
            "Requirement already satisfied: packaging>=21.3 in /usr/local/lib/python3.10/dist-packages (from statsmodels>=0.9.0->category_encoders) (23.2)\n"
          ]
        }
      ]
    },
    {
      "cell_type": "code",
      "source": [
        "import pandas as pd\n",
        "import numpy as np\n",
        "import seaborn as sns\n",
        "import matplotlib.pyplot as plt\n",
        "\n",
        "from sklearn.model_selection import train_test_split\n",
        "from category_encoders.cat_boost import CatBoostEncoder\n",
        "from sklearn.preprocessing import StandardScaler\n",
        "\n",
        "from imblearn.over_sampling import SMOTE"
      ],
      "metadata": {
        "id": "jEIk-wVnZHJe"
      },
      "execution_count": 2,
      "outputs": []
    },
    {
      "cell_type": "code",
      "source": [
        "pd.set_option('display.max_columns', None)\n",
        "df = pd.read_csv('https://raw.githubusercontent.com/Muniz97/Federal-road-accidents---Brazil/main/2%20-%20Statistic/Federal_Accidents_Statistic.csv', sep = ',', encoding='ISO-8859-1')"
      ],
      "metadata": {
        "id": "p-8XD3iphlX8"
      },
      "execution_count": 3,
      "outputs": []
    },
    {
      "cell_type": "markdown",
      "source": [
        "# Treino e teste\n",
        "\n",
        "Vamos dividir nossa amostra em base de treino e teste; isso serve para ensinar o modelo e, em seguida, avaliá-lo:\n",
        "\n",
        "1. **Treino**: Maior parte da amostra original, serve para treinar o modelo, fazê-lo aprender a lidar com os dados;\n",
        "2. **Teste**: Menor parte da amostra original, após o aprendizado do modelo, o mesmo realizará a predição na base teste, com dados dos quais ele não teve contato, e assim avaliamos seu desempenho.\n",
        "\n",
        "\n",
        "\n",
        "Algumas variáveis precisam ser removidas, pois não têm lógica para serem consideradas no modelo. São elas:\n",
        "\n",
        "*    **id**: A identificação da ocorrência não é necessária e nem deve ser utilizada como feature;\n",
        "*    **data_inversa**: Já existem 3 campos derivados;\n",
        "*    **horario**: Ambíguo com os campos hora e minutos;\n",
        "*    **classificacao_acidente**: A ideia é estimar quais ocorrências podem levar à fatalidade. Utilizar uma variável em que uma de suas categorias já expresse isso seria redundante;\n",
        "*    **feridos**: A feature é apenas a soma dos feridos_leves e feridos_graves;\n",
        "*    **mortos**: Ambíguo em relação à target;\n",
        "*    **regional**: Tem a mesma função de uf;\n",
        "*    **uop**: Tem a mesma função de delegacia;\n",
        "*    **latitude e longitude**: Existem diversos outros campos para localização, como uf, região, município e br."
      ],
      "metadata": {
        "id": "GY2w04ou4uqO"
      }
    },
    {
      "cell_type": "code",
      "source": [
        "# Separando variáveis explicativas e variável resposta\n",
        "\n",
        "# Variáveis explicativas\n",
        "X = df.drop(['id','data_inversa','horario','classificacao_acidente','feridos','mortos','regional','uop','ano_mes','obitos','latitude','longitude'], axis = 1)\n",
        "\n",
        "# Variável resposta (binária)\n",
        "y = df['obitos']"
      ],
      "metadata": {
        "id": "7B_WtyLjhgA0"
      },
      "execution_count": 4,
      "outputs": []
    },
    {
      "cell_type": "markdown",
      "source": [
        "Após remover as variáveis que não fazem sentido para o estudo se faz necessário separar as bases em treino e teste."
      ],
      "metadata": {
        "id": "y-3b47locpgr"
      }
    },
    {
      "cell_type": "code",
      "source": [
        "x_train, x_test, y_train, y_test = train_test_split(X,y, test_size = 0.2, random_state = 1337, stratify = y)"
      ],
      "metadata": {
        "id": "utVIZRSPZHQJ"
      },
      "execution_count": 5,
      "outputs": []
    },
    {
      "cell_type": "markdown",
      "source": [
        "Alguns pontos sobre a maneira que realizei o train_test_split:\n",
        "\n",
        "*   **Test_size**: Tamanho de 20% para teste me parece um número aceitavel visto que estamos lidando com uma amostra grande, com 184.550 ocorrências, dado isso a base teste possui 36.910 observações;\n",
        "*   **Random_state**: Para que mantenha a separação e que possa ser replicado;\n",
        "*   **Stratify**: Como estou lidando com dados bastante desbalanceados, manter a proporção ajuda ao modelo ser treinado e avaliado com dados que representam a realidade. Lembrando que a proporção por ano, dos últimos 3 anos são de 7%.\n",
        "\n"
      ],
      "metadata": {
        "id": "pbVZpP8zcQbb"
      }
    },
    {
      "cell_type": "markdown",
      "source": [
        "# Pré-Processamento dos dados\n",
        "\n",
        "Como vimos anteriormente as features uf, br, município e causa_acidente possuem muitas categorias e transformá-las via one-hot ou get_dummies aumentaria demais o número de colunas.\n",
        "\n",
        "Dado isso, utilizarei o '**CatBoostEncoder**', feito para otimizar o tratamento de variáveis categóricas no estilo CatBoost, que pode ser utilizado em outros modelo de machine learning([documentação](https://contrib.scikit-learn.org/category_encoders/catboost.html)).\n",
        "\n"
      ],
      "metadata": {
        "id": "ZjmXmzHa422R"
      }
    },
    {
      "cell_type": "code",
      "source": [
        "# Separação de variáveis categóricas\n",
        "features_cat = ['dia_semana','uf','br','municipio','causa_acidente','tipo_acidente','fase_dia','sentido_via','condicao_metereologica','tipo_pista','uso_solo','delegacia','regiao']\n",
        "features_num = ['km','pessoas','feridos_leves','feridos_graves','ilesos','ignorados','veiculos','ano','mes','dia','horas','minutos']"
      ],
      "metadata": {
        "id": "bkpAvCvq5Ob8"
      },
      "execution_count": 6,
      "outputs": []
    },
    {
      "cell_type": "code",
      "source": [
        "# Variaveis Categóricas\n",
        "encoder = CatBoostEncoder(cols = features_cat)\n",
        "x_train_encoder = encoder.fit_transform(x_train,y_train)"
      ],
      "metadata": {
        "id": "cdP8yzkKEzx4"
      },
      "execution_count": 7,
      "outputs": []
    },
    {
      "cell_type": "code",
      "source": [
        "# Variaveis Númericas\n",
        "scaler = StandardScaler()\n",
        "x_train_encoder[features_num] = scaler.fit_transform(x_train_encoder[features_num])"
      ],
      "metadata": {
        "id": "3hpkIbCEZLQ5"
      },
      "execution_count": 8,
      "outputs": []
    },
    {
      "cell_type": "code",
      "source": [
        "# Base de Teste\n",
        "x_test_encoder = encoder.transform(x_test)\n",
        "x_test_encoder[features_num] = scaler.transform(x_test_encoder[features_num])"
      ],
      "metadata": {
        "id": "nmgagNtpktU1"
      },
      "execution_count": 9,
      "outputs": []
    },
    {
      "cell_type": "code",
      "source": [
        "# Junta as bases tratadas\n",
        "train_encoder = pd.concat([x_train_encoder,y_train], axis = 1)\n",
        "test_encoder = pd.concat([x_test_encoder,y_test], axis = 1)\n",
        "\n",
        "# Gerar os arquivos a parte\n",
        "train_encoder.to_csv('train_encoder.csv', index = False)\n",
        "test_encoder.to_csv('test_encoder.csv', index = False)"
      ],
      "metadata": {
        "id": "dSwtaf2RJZl2"
      },
      "execution_count": 10,
      "outputs": []
    },
    {
      "cell_type": "code",
      "source": [
        "# Númerode linhas e colunas\n",
        "print(f'Número de observações: {train_encoder.shape[0]}')\n",
        "print(f'Número de variáveis: {train_encoder.shape[1]}')"
      ],
      "metadata": {
        "colab": {
          "base_uri": "https://localhost:8080/"
        },
        "id": "rnwH5BGCNY74",
        "outputId": "56a337a1-bb95-484d-97c1-a5d0490a94c1"
      },
      "execution_count": 11,
      "outputs": [
        {
          "output_type": "stream",
          "name": "stdout",
          "text": [
            "Número de observações: 147640\n",
            "Número de variáveis: 26\n"
          ]
        }
      ]
    },
    {
      "cell_type": "markdown",
      "source": [
        "# Oversampling\n",
        "\n",
        "**Oversampling** é uma técnica que aumenta o número de observações, dado as classes que possuem menor frequência, através da criação de dados sintéticos com referência nos dados já existentes da menor classe. Isso faz com que o algoritmo tenha mais dados para treino e assim entender e aprender melhor com o que está trabalhando.\n",
        "\n",
        "Uitlizaremos apenas na base treino, separada da base treino original e avaliaremos o modelo adestrado nos dados de teste."
      ],
      "metadata": {
        "id": "fKLP3i3TBsEb"
      }
    },
    {
      "cell_type": "markdown",
      "source": [
        "## SMOTE\n",
        "\n",
        "**SMOTE** é um dos diversos algoritmos disponíveis para criar dados sintéticos. SMOTE utiliza interpolação dos pontos mais próximos, gerando assim mais dados para a classe minoritária."
      ],
      "metadata": {
        "id": "l4_8daHaovhi"
      }
    },
    {
      "cell_type": "code",
      "source": [
        "# Trás o algoritmo\n",
        "smote = SMOTE()\n",
        "\n",
        "# Aplicar o fit na base treino\n",
        "x_train_smote, y_train_smote = smote.fit_resample(x_train_encoder, y_train)\n",
        "\n",
        "# Unifica as bases de smote\n",
        "train_smote = pd.concat([x_train_smote,y_train_smote], axis = 1)"
      ],
      "metadata": {
        "id": "4Me2VlXDBxoe"
      },
      "execution_count": 12,
      "outputs": []
    },
    {
      "cell_type": "markdown",
      "source": [
        "Agora vamos comparar a base de treino com dados sintéticos e sem dados sintéticos."
      ],
      "metadata": {
        "id": "wN3FTLxPp7SI"
      }
    },
    {
      "cell_type": "code",
      "source": [
        "# Distribuição da Target sem oversampling\n",
        "sns.countplot(data = pd.concat([x_train_encoder, y_train], axis = 1), x = 'obitos')\n",
        "plt.title('Distribuição da Target')\n",
        "plt.xlabel('Óbitos')\n",
        "plt.ylabel('Quantidade')\n",
        "plt.show()"
      ],
      "metadata": {
        "colab": {
          "base_uri": "https://localhost:8080/",
          "height": 472
        },
        "id": "1ajsnYVsFitn",
        "outputId": "3a86749b-d741-4435-dc61-538130f96031"
      },
      "execution_count": 13,
      "outputs": [
        {
          "output_type": "display_data",
          "data": {
            "text/plain": [
              "<Figure size 640x480 with 1 Axes>"
            ],
            "image/png": "[encoded data removed]"
          },
          "metadata": {}
        }
      ]
    },
    {
      "cell_type": "code",
      "source": [
        "# Distribuição da Target com oversampling\n",
        "sns.countplot(data= pd.concat([x_train_smote,y_train_smote], axis = 1), x = 'obitos')\n",
        "plt.title('Distribuição da Target - Oversampling')\n",
        "plt.xlabel('Óbitos')\n",
        "plt.ylabel('Quantidade')\n",
        "plt.show()"
      ],
      "metadata": {
        "colab": {
          "base_uri": "https://localhost:8080/",
          "height": 472
        },
        "id": "9l02aPUeEyyz",
        "outputId": "02ba91ea-d79b-4441-8ef9-e59334252949"
      },
      "execution_count": 14,
      "outputs": [
        {
          "output_type": "display_data",
          "data": {
            "text/plain": [
              "<Figure size 640x480 with 1 Axes>"
            ],
            "image/png": "[encoded data removed]"
          },
          "metadata": {}
        }
      ]
    },
    {
      "cell_type": "markdown",
      "source": [
        "Note que agora os dados estão balanceados."
      ],
      "metadata": {
        "id": "CI9jsB4InAWZ"
      }
    },
    {
      "cell_type": "code",
      "source": [
        "# Númerode linhas e colunas\n",
        "print(f'Número de observações: {train_smote.shape[0]}')\n",
        "print(f'Número de variáveis: {train_smote.shape[1]}')"
      ],
      "metadata": {
        "colab": {
          "base_uri": "https://localhost:8080/"
        },
        "id": "GRyuD7oLLiPV",
        "outputId": "db591d17-9f47-4b46-bcb9-e6a0ded7355d"
      },
      "execution_count": 15,
      "outputs": [
        {
          "output_type": "stream",
          "name": "stdout",
          "text": [
            "Número de observações: 273948\n",
            "Número de variáveis: 26\n"
          ]
        }
      ]
    },
    {
      "cell_type": "markdown",
      "source": [
        "Separarei a base individualmente."
      ],
      "metadata": {
        "id": "fZxJsrIIqQM0"
      }
    },
    {
      "cell_type": "code",
      "source": [
        "train_smote.to_csv('train_smote.csv', index = False)\n",
        "train_smote.head()"
      ],
      "metadata": {
        "colab": {
          "base_uri": "https://localhost:8080/",
          "height": 226
        },
        "id": "nWPxl7OSCbnP",
        "outputId": "271b38af-b9f9-4507-f230-58da839ec5a7"
      },
      "execution_count": 16,
      "outputs": [
        {
          "output_type": "execute_result",
          "data": {
            "text/plain": [
              "   dia_semana        uf        br        km  municipio  causa_acidente  \\\n",
              "0    0.072243  0.072243  0.072243 -0.043891   0.072243        0.072243   \n",
              "1    0.072243  0.072243  0.072243 -0.451870   0.072243        0.072243   \n",
              "2    0.036122  0.536122  0.072243 -0.285575   0.072243        0.072243   \n",
              "3    0.536122  0.072243  0.072243 -0.251872   0.072243        0.072243   \n",
              "4    0.024081  0.036122  0.036122 -1.086455   0.072243        0.072243   \n",
              "\n",
              "   tipo_acidente  fase_dia  sentido_via  condicao_metereologica  tipo_pista  \\\n",
              "0       0.072243  0.072243     0.072243                0.072243    0.072243   \n",
              "1       0.072243  0.536122     0.536122                0.536122    0.072243   \n",
              "2       0.072243  0.072243     0.357414                0.357414    0.036122   \n",
              "3       0.072243  0.036122     0.268061                0.072243    0.536122   \n",
              "4       0.072243  0.024081     0.214449                0.072243    0.024081   \n",
              "\n",
              "   uso_solo   pessoas  feridos_leves  feridos_graves    ilesos  ignorados  \\\n",
              "0  0.072243  0.293954      -0.793835       -0.451818  0.610771  -0.334977   \n",
              "1  0.536122 -0.684358      -0.793835       -0.451818 -0.636591   1.731284   \n",
              "2  0.357414 -0.684358      -0.793835       -0.451818 -0.636591   1.731284   \n",
              "3  0.268061 -0.684358       0.134408       -0.451818 -0.636591  -0.334977   \n",
              "4  0.072243 -0.684358      -0.793835        1.176677 -0.636591  -0.334977   \n",
              "\n",
              "   veiculos  delegacia       ano       mes       dia     horas   minutos  \\\n",
              "0  1.847050   0.072243  1.300339  0.808827 -0.526396  1.488534 -0.532127   \n",
              "1 -0.909917   0.072243 -1.182679  0.506402  1.296117  1.652307 -1.391066   \n",
              "2 -0.909917   0.072243 -1.182679 -1.610572 -0.868117  0.669669 -0.245814   \n",
              "3 -0.909917   0.072243 -1.182679  1.716101  1.296117 -0.149196 -1.391066   \n",
              "4 -0.909917   0.072243  1.300339 -1.005722 -0.640303 -0.968061  0.326812   \n",
              "\n",
              "     regiao  obitos  \n",
              "0  0.072243       1  \n",
              "1  0.072243       0  \n",
              "2  0.536122       0  \n",
              "3  0.036122       0  \n",
              "4  0.024081       0  "
            ],
            "text/html": [
              "\n",
              "  <div id=\"df-9e24b477-4c46-449a-9b07-5b761c92bc40\" class=\"colab-df-container\">\n",
              "    <div>\n",
              "<style scoped>\n",
              "    .dataframe tbody tr th:only-of-type {\n",
              "        vertical-align: middle;\n",
              "    }\n",
              "\n",
              "    .dataframe tbody tr th {\n",
              "        vertical-align: top;\n",
              "    }\n",
              "\n",
              "    .dataframe thead th {\n",
              "        text-align: right;\n",
              "    }\n",
              "</style>\n",
              "<table border=\"1\" class=\"dataframe\">\n",
              "  <thead>\n",
              "    <tr style=\"text-align: right;\">\n",
              "      <th></th>\n",
              "      <th>dia_semana</th>\n",
              "      <th>uf</th>\n",
              "      <th>br</th>\n",
              "      <th>km</th>\n",
              "      <th>municipio</th>\n",
              "      <th>causa_acidente</th>\n",
              "      <th>tipo_acidente</th>\n",
              "      <th>fase_dia</th>\n",
              "      <th>sentido_via</th>\n",
              "      <th>condicao_metereologica</th>\n",
              "      <th>tipo_pista</th>\n",
              "      <th>uso_solo</th>\n",
              "      <th>pessoas</th>\n",
              "      <th>feridos_leves</th>\n",
              "      <th>feridos_graves</th>\n",
              "      <th>ilesos</th>\n",
              "      <th>ignorados</th>\n",
              "      <th>veiculos</th>\n",
              "      <th>delegacia</th>\n",
              "      <th>ano</th>\n",
              "      <th>mes</th>\n",
              "      <th>dia</th>\n",
              "      <th>horas</th>\n",
              "      <th>minutos</th>\n",
              "      <th>regiao</th>\n",
              "      <th>obitos</th>\n",
              "    </tr>\n",
              "  </thead>\n",
              "  <tbody>\n",
              "    <tr>\n",
              "      <th>0</th>\n",
              "      <td>0.072243</td>\n",
              "      <td>0.072243</td>\n",
              "      <td>0.072243</td>\n",
              "      <td>-0.043891</td>\n",
              "      <td>0.072243</td>\n",
              "      <td>0.072243</td>\n",
              "      <td>0.072243</td>\n",
              "      <td>0.072243</td>\n",
              "      <td>0.072243</td>\n",
              "      <td>0.072243</td>\n",
              "      <td>0.072243</td>\n",
              "      <td>0.072243</td>\n",
              "      <td>0.293954</td>\n",
              "      <td>-0.793835</td>\n",
              "      <td>-0.451818</td>\n",
              "      <td>0.610771</td>\n",
              "      <td>-0.334977</td>\n",
              "      <td>1.847050</td>\n",
              "      <td>0.072243</td>\n",
              "      <td>1.300339</td>\n",
              "      <td>0.808827</td>\n",
              "      <td>-0.526396</td>\n",
              "      <td>1.488534</td>\n",
              "      <td>-0.532127</td>\n",
              "      <td>0.072243</td>\n",
              "      <td>1</td>\n",
              "    </tr>\n",
              "    <tr>\n",
              "      <th>1</th>\n",
              "      <td>0.072243</td>\n",
              "      <td>0.072243</td>\n",
              "      <td>0.072243</td>\n",
              "      <td>-0.451870</td>\n",
              "      <td>0.072243</td>\n",
              "      <td>0.072243</td>\n",
              "      <td>0.072243</td>\n",
              "      <td>0.536122</td>\n",
              "      <td>0.536122</td>\n",
              "      <td>0.536122</td>\n",
              "      <td>0.072243</td>\n",
              "      <td>0.536122</td>\n",
              "      <td>-0.684358</td>\n",
              "      <td>-0.793835</td>\n",
              "      <td>-0.451818</td>\n",
              "      <td>-0.636591</td>\n",
              "      <td>1.731284</td>\n",
              "      <td>-0.909917</td>\n",
              "      <td>0.072243</td>\n",
              "      <td>-1.182679</td>\n",
              "      <td>0.506402</td>\n",
              "      <td>1.296117</td>\n",
              "      <td>1.652307</td>\n",
              "      <td>-1.391066</td>\n",
              "      <td>0.072243</td>\n",
              "      <td>0</td>\n",
              "    </tr>\n",
              "    <tr>\n",
              "      <th>2</th>\n",
              "      <td>0.036122</td>\n",
              "      <td>0.536122</td>\n",
              "      <td>0.072243</td>\n",
              "      <td>-0.285575</td>\n",
              "      <td>0.072243</td>\n",
              "      <td>0.072243</td>\n",
              "      <td>0.072243</td>\n",
              "      <td>0.072243</td>\n",
              "      <td>0.357414</td>\n",
              "      <td>0.357414</td>\n",
              "      <td>0.036122</td>\n",
              "      <td>0.357414</td>\n",
              "      <td>-0.684358</td>\n",
              "      <td>-0.793835</td>\n",
              "      <td>-0.451818</td>\n",
              "      <td>-0.636591</td>\n",
              "      <td>1.731284</td>\n",
              "      <td>-0.909917</td>\n",
              "      <td>0.072243</td>\n",
              "      <td>-1.182679</td>\n",
              "      <td>-1.610572</td>\n",
              "      <td>-0.868117</td>\n",
              "      <td>0.669669</td>\n",
              "      <td>-0.245814</td>\n",
              "      <td>0.536122</td>\n",
              "      <td>0</td>\n",
              "    </tr>\n",
              "    <tr>\n",
              "      <th>3</th>\n",
              "      <td>0.536122</td>\n",
              "      <td>0.072243</td>\n",
              "      <td>0.072243</td>\n",
              "      <td>-0.251872</td>\n",
              "      <td>0.072243</td>\n",
              "      <td>0.072243</td>\n",
              "      <td>0.072243</td>\n",
              "      <td>0.036122</td>\n",
              "      <td>0.268061</td>\n",
              "      <td>0.072243</td>\n",
              "      <td>0.536122</td>\n",
              "      <td>0.268061</td>\n",
              "      <td>-0.684358</td>\n",
              "      <td>0.134408</td>\n",
              "      <td>-0.451818</td>\n",
              "      <td>-0.636591</td>\n",
              "      <td>-0.334977</td>\n",
              "      <td>-0.909917</td>\n",
              "      <td>0.072243</td>\n",
              "      <td>-1.182679</td>\n",
              "      <td>1.716101</td>\n",
              "      <td>1.296117</td>\n",
              "      <td>-0.149196</td>\n",
              "      <td>-1.391066</td>\n",
              "      <td>0.036122</td>\n",
              "      <td>0</td>\n",
              "    </tr>\n",
              "    <tr>\n",
              "      <th>4</th>\n",
              "      <td>0.024081</td>\n",
              "      <td>0.036122</td>\n",
              "      <td>0.036122</td>\n",
              "      <td>-1.086455</td>\n",
              "      <td>0.072243</td>\n",
              "      <td>0.072243</td>\n",
              "      <td>0.072243</td>\n",
              "      <td>0.024081</td>\n",
              "      <td>0.214449</td>\n",
              "      <td>0.072243</td>\n",
              "      <td>0.024081</td>\n",
              "      <td>0.072243</td>\n",
              "      <td>-0.684358</td>\n",
              "      <td>-0.793835</td>\n",
              "      <td>1.176677</td>\n",
              "      <td>-0.636591</td>\n",
              "      <td>-0.334977</td>\n",
              "      <td>-0.909917</td>\n",
              "      <td>0.072243</td>\n",
              "      <td>1.300339</td>\n",
              "      <td>-1.005722</td>\n",
              "      <td>-0.640303</td>\n",
              "      <td>-0.968061</td>\n",
              "      <td>0.326812</td>\n",
              "      <td>0.024081</td>\n",
              "      <td>0</td>\n",
              "    </tr>\n",
              "  </tbody>\n",
              "</table>\n",
              "</div>\n",
              "    <div class=\"colab-df-buttons\">\n",
              "\n",
              "  <div class=\"colab-df-container\">\n",
              "    <button class=\"colab-df-convert\" onclick=\"convertToInteractive('df-9e24b477-4c46-449a-9b07-5b761c92bc40')\"\n",
              "            title=\"Convert this dataframe to an interactive table.\"\n",
              "            style=\"display:none;\">\n",
              "\n",
              "  <svg xmlns=\"http://www.w3.org/2000/svg\" height=\"24px\" viewBox=\"0 -960 960 960\">\n",
              "    <path d=\"M120-120v-720h720v720H120Zm60-500h600v-160H180v160Zm220 220h160v-160H400v160Zm0 220h160v-160H400v160ZM180-400h160v-160H180v160Zm440 0h160v-160H620v160ZM180-180h160v-160H180v160Zm440 0h160v-160H620v160Z\"/>\n",
              "  </svg>\n",
              "    </button>\n",
              "\n",
              "  <style>\n",
              "    .colab-df-container {\n",
              "      display:flex;\n",
              "      gap: 12px;\n",
              "    }\n",
              "\n",
              "    .colab-df-convert {\n",
              "      background-color: #E8F0FE;\n",
              "      border: none;\n",
              "      border-radius: 50%;\n",
              "      cursor: pointer;\n",
              "      display: none;\n",
              "      fill: #1967D2;\n",
              "      height: 32px;\n",
              "      padding: 0 0 0 0;\n",
              "      width: 32px;\n",
              "    }\n",
              "\n",
              "    .colab-df-convert:hover {\n",
              "      background-color: #E2EBFA;\n",
              "      box-shadow: 0px 1px 2px rgba(60, 64, 67, 0.3), 0px 1px 3px 1px rgba(60, 64, 67, 0.15);\n",
              "      fill: #174EA6;\n",
              "    }\n",
              "\n",
              "    .colab-df-buttons div {\n",
              "      margin-bottom: 4px;\n",
              "    }\n",
              "\n",
              "    [theme=dark] .colab-df-convert {\n",
              "      background-color: #3B4455;\n",
              "      fill: #D2E3FC;\n",
              "    }\n",
              "\n",
              "    [theme=dark] .colab-df-convert:hover {\n",
              "      background-color: #434B5C;\n",
              "      box-shadow: 0px 1px 3px 1px rgba(0, 0, 0, 0.15);\n",
              "      filter: drop-shadow(0px 1px 2px rgba(0, 0, 0, 0.3));\n",
              "      fill: #FFFFFF;\n",
              "    }\n",
              "  </style>\n",
              "\n",
              "    <script>\n",
              "      const buttonEl =\n",
              "        document.querySelector('#df-9e24b477-4c46-449a-9b07-5b761c92bc40 button.colab-df-convert');\n",
              "      buttonEl.style.display =\n",
              "        google.colab.kernel.accessAllowed ? 'block' : 'none';\n",
              "\n",
              "      async function convertToInteractive(key) {\n",
              "        const element = document.querySelector('#df-9e24b477-4c46-449a-9b07-5b761c92bc40');\n",
              "        const dataTable =\n",
              "          await google.colab.kernel.invokeFunction('convertToInteractive',\n",
              "                                                    [key], {});\n",
              "        if (!dataTable) return;\n",
              "\n",
              "        const docLinkHtml = 'Like what you see? Visit the ' +\n",
              "          '<a target=\"_blank\" href=https://colab.research.google.com/notebooks/data_table.ipynb>data table notebook</a>'\n",
              "          + ' to learn more about interactive tables.';\n",
              "        element.innerHTML = '';\n",
              "        dataTable['output_type'] = 'display_data';\n",
              "        await google.colab.output.renderOutput(dataTable, element);\n",
              "        const docLink = document.createElement('div');\n",
              "        docLink.innerHTML = docLinkHtml;\n",
              "        element.appendChild(docLink);\n",
              "      }\n",
              "    </script>\n",
              "  </div>\n",
              "\n",
              "\n",
              "<div id=\"df-3053e831-537d-40a4-962b-d83227163fc2\">\n",
              "  <button class=\"colab-df-quickchart\" onclick=\"quickchart('df-3053e831-537d-40a4-962b-d83227163fc2')\"\n",
              "            title=\"Suggest charts\"\n",
              "            style=\"display:none;\">\n",
              "\n",
              "<svg xmlns=\"http://www.w3.org/2000/svg\" height=\"24px\"viewBox=\"0 0 24 24\"\n",
              "     width=\"24px\">\n",
              "    <g>\n",
              "        <path d=\"M19 3H5c-1.1 0-2 .9-2 2v14c0 1.1.9 2 2 2h14c1.1 0 2-.9 2-2V5c0-1.1-.9-2-2-2zM9 17H7v-7h2v7zm4 0h-2V7h2v10zm4 0h-2v-4h2v4z\"/>\n",
              "    </g>\n",
              "</svg>\n",
              "  </button>\n",
              "\n",
              "<style>\n",
              "  .colab-df-quickchart {\n",
              "      --bg-color: #E8F0FE;\n",
              "      --fill-color: #1967D2;\n",
              "      --hover-bg-color: #E2EBFA;\n",
              "      --hover-fill-color: #174EA6;\n",
              "      --disabled-fill-color: #AAA;\n",
              "      --disabled-bg-color: #DDD;\n",
              "  }\n",
              "\n",
              "  [theme=dark] .colab-df-quickchart {\n",
              "      --bg-color: #3B4455;\n",
              "      --fill-color: #D2E3FC;\n",
              "      --hover-bg-color: #434B5C;\n",
              "      --hover-fill-color: #FFFFFF;\n",
              "      --disabled-bg-color: #3B4455;\n",
              "      --disabled-fill-color: #666;\n",
              "  }\n",
              "\n",
              "  .colab-df-quickchart {\n",
              "    background-color: var(--bg-color);\n",
              "    border: none;\n",
              "    border-radius: 50%;\n",
              "    cursor: pointer;\n",
              "    display: none;\n",
              "    fill: var(--fill-color);\n",
              "    height: 32px;\n",
              "    padding: 0;\n",
              "    width: 32px;\n",
              "  }\n",
              "\n",
              "  .colab-df-quickchart:hover {\n",
              "    background-color: var(--hover-bg-color);\n",
              "    box-shadow: 0 1px 2px rgba(60, 64, 67, 0.3), 0 1px 3px 1px rgba(60, 64, 67, 0.15);\n",
              "    fill: var(--button-hover-fill-color);\n",
              "  }\n",
              "\n",
              "  .colab-df-quickchart-complete:disabled,\n",
              "  .colab-df-quickchart-complete:disabled:hover {\n",
              "    background-color: var(--disabled-bg-color);\n",
              "    fill: var(--disabled-fill-color);\n",
              "    box-shadow: none;\n",
              "  }\n",
              "\n",
              "  .colab-df-spinner {\n",
              "    border: 2px solid var(--fill-color);\n",
              "    border-color: transparent;\n",
              "    border-bottom-color: var(--fill-color);\n",
              "    animation:\n",
              "      spin 1s steps(1) infinite;\n",
              "  }\n",
              "\n",
              "  @keyframes spin {\n",
              "    0% {\n",
              "      border-color: transparent;\n",
              "      border-bottom-color: var(--fill-color);\n",
              "      border-left-color: var(--fill-color);\n",
              "    }\n",
              "    20% {\n",
              "      border-color: transparent;\n",
              "      border-left-color: var(--fill-color);\n",
              "      border-top-color: var(--fill-color);\n",
              "    }\n",
              "    30% {\n",
              "      border-color: transparent;\n",
              "      border-left-color: var(--fill-color);\n",
              "      border-top-color: var(--fill-color);\n",
              "      border-right-color: var(--fill-color);\n",
              "    }\n",
              "    40% {\n",
              "      border-color: transparent;\n",
              "      border-right-color: var(--fill-color);\n",
              "      border-top-color: var(--fill-color);\n",
              "    }\n",
              "    60% {\n",
              "      border-color: transparent;\n",
              "      border-right-color: var(--fill-color);\n",
              "    }\n",
              "    80% {\n",
              "      border-color: transparent;\n",
              "      border-right-color: var(--fill-color);\n",
              "      border-bottom-color: var(--fill-color);\n",
              "    }\n",
              "    90% {\n",
              "      border-color: transparent;\n",
              "      border-bottom-color: var(--fill-color);\n",
              "    }\n",
              "  }\n",
              "</style>\n",
              "\n",
              "  <script>\n",
              "    async function quickchart(key) {\n",
              "      const quickchartButtonEl =\n",
              "        document.querySelector('#' + key + ' button');\n",
              "      quickchartButtonEl.disabled = true;  // To prevent multiple clicks.\n",
              "      quickchartButtonEl.classList.add('colab-df-spinner');\n",
              "      try {\n",
              "        const charts = await google.colab.kernel.invokeFunction(\n",
              "            'suggestCharts', [key], {});\n",
              "      } catch (error) {\n",
              "        console.error('Error during call to suggestCharts:', error);\n",
              "      }\n",
              "      quickchartButtonEl.classList.remove('colab-df-spinner');\n",
              "      quickchartButtonEl.classList.add('colab-df-quickchart-complete');\n",
              "    }\n",
              "    (() => {\n",
              "      let quickchartButtonEl =\n",
              "        document.querySelector('#df-3053e831-537d-40a4-962b-d83227163fc2 button');\n",
              "      quickchartButtonEl.style.display =\n",
              "        google.colab.kernel.accessAllowed ? 'block' : 'none';\n",
              "    })();\n",
              "  </script>\n",
              "</div>\n",
              "\n",
              "    </div>\n",
              "  </div>\n"
            ]
          },
          "metadata": {},
          "execution_count": 16
        }
      ]
    }
  ]
}